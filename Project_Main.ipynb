{
 "cells": [
  {
   "cell_type": "markdown",
   "metadata": {},
   "source": [
    "## Import Statements"
   ]
  },
  {
   "cell_type": "code",
   "execution_count": 1,
   "metadata": {},
   "outputs": [],
   "source": [
    "import numpy as np\n",
    "import pypico"
   ]
  },
  {
   "cell_type": "markdown",
   "metadata": {},
   "source": [
    "## Load data (WMAP, PICO, SNe Ia)"
   ]
  },
  {
   "cell_type": "code",
   "execution_count": 3,
   "metadata": {},
   "outputs": [],
   "source": [
    "#Load the wmap satellite data\n",
    "wmap=np.loadtxt('wmap_tt_spectrum_9yr_v5.txt')\n",
    "multipole = wmap[:,0]; power = wmap[:,1]; errPower = wmap[:,2]\n",
    "\n",
    "#Load the pico training data\n",
    "pico = pypico.load_pico(\"jcset_py3.dat\")\n",
    "\n",
    "#Load the SNe Ia data\n",
    "sn_z,sn_dm,sn_dm_err = np.loadtxt(\"SCPUnion2.1_mu_vs_z.txt\",delimiter=\"\\t\",\\\n",
    "                                  skiprows=5, usecols = (1,2,3),unpack=True)"
   ]
  },
  {
   "cell_type": "markdown",
   "metadata": {},
   "source": [
    "## Posterior Probability Function for WMAP"
   ]
  },
  {
   "cell_type": "code",
   "execution_count": null,
   "metadata": {},
   "outputs": [],
   "source": [
    "#Determine physical bounds on the prior"
   ]
  },
  {
   "cell_type": "markdown",
   "metadata": {},
   "source": [
    "## WMAP MCMC Fitting"
   ]
  },
  {
   "cell_type": "code",
   "execution_count": 4,
   "metadata": {},
   "outputs": [],
   "source": [
    "#Check tau_f to tune MCMC, show corner plots of results\n",
    "#Plot the posterior fit with the data\n",
    "#Convert omega*h^2 values to omega"
   ]
  },
  {
   "cell_type": "markdown",
   "metadata": {},
   "source": [
    "## Posterior Probability Function for SNe Ia"
   ]
  },
  {
   "cell_type": "code",
   "execution_count": null,
   "metadata": {},
   "outputs": [],
   "source": []
  },
  {
   "cell_type": "markdown",
   "metadata": {},
   "source": [
    "## SNe Ia MCMC Fitting"
   ]
  },
  {
   "cell_type": "code",
   "execution_count": 5,
   "metadata": {},
   "outputs": [],
   "source": [
    "#Check tau_f to tune MCMC, show corner plots of results\n",
    "#Plot the posterior fit with the data\n",
    "\n",
    "#Calculate posterior for omega_k = 1 - omega_m - omega_de"
   ]
  },
  {
   "cell_type": "markdown",
   "metadata": {},
   "source": [
    "## Overlay comparison of WMAP and SNe Ia Posterior distributions"
   ]
  },
  {
   "cell_type": "code",
   "execution_count": 7,
   "metadata": {},
   "outputs": [],
   "source": [
    "#Overlay the posteriors for the omegas to compare between the two measurements\n",
    "#Maybe include best fit values from Planck?"
   ]
  }
 ],
 "metadata": {
  "kernelspec": {
   "display_name": "Python 3",
   "language": "python",
   "name": "python3"
  },
  "language_info": {
   "codemirror_mode": {
    "name": "ipython",
    "version": 3
   },
   "file_extension": ".py",
   "mimetype": "text/x-python",
   "name": "python",
   "nbconvert_exporter": "python",
   "pygments_lexer": "ipython3",
   "version": "3.7.3"
  }
 },
 "nbformat": 4,
 "nbformat_minor": 2
}
