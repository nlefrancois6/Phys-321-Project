{
 "cells": [
  {
   "cell_type": "markdown",
   "metadata": {},
   "source": [
    "## Import Statements"
   ]
  },
  {
   "cell_type": "code",
   "execution_count": 10,
   "metadata": {},
   "outputs": [],
   "source": [
    "import numpy as np\n",
    "import pypico\n",
    "import time as t\n",
    "import matplotlib.pyplot as plt\n",
    "import astropy.units as u\n",
    "from astropy.cosmology import LambdaCDM\n",
    "import emcee\n",
    "import corner\n",
    "import os\n",
    "import imageio"
   ]
  },
  {
   "cell_type": "markdown",
   "metadata": {},
   "source": [
    "## Load data (WMAP, PICO, SNe Ia)"
   ]
  },
  {
   "cell_type": "code",
   "execution_count": 11,
   "metadata": {},
   "outputs": [],
   "source": [
    "#Load the wmap satellite data\n",
    "wmap = np.loadtxt('wmap_tt_spectrum_9yr_v5.txt')\n",
    "multipole = wmap[:,0] \n",
    "power = wmap[:,1] \n",
    "errPower = wmap[:,2]\n",
    "\n",
    "#Load the pico training data\n",
    "pico = pypico.load_pico(\"jcset_py3.dat\")\n",
    "\n",
    "#Load the SNe Ia data\n",
    "sn_z,sn_dm,sn_dm_err = np.loadtxt(\"SCPUnion2.1_mu_vs_z.txt\",delimiter=\"\\t\",skiprows=5, usecols = (1,2,3),unpack=True)"
   ]
  },
  {
   "cell_type": "markdown",
   "metadata": {},
   "source": [
    "## Posterior Probability Function for WMAP"
   ]
  },
  {
   "cell_type": "code",
   "execution_count": 12,
   "metadata": {},
   "outputs": [],
   "source": [
    "def get_PICO_spectrum(pars):\n",
    "    \"\"\"\n",
    "    Function to evaluate the CAMB model emulator for a given set of parameters. \n",
    "    Much faster than the full CAMB model\n",
    "    \"\"\"\n",
    "    \n",
    "    H0, ombh2, omch2, omk, tau, As, ns, alpha = pars #Unpack model parameters\n",
    "    \n",
    "    input_dict = {\"As\": As,\"ns\": ns,\"tau\": tau,\"ombh2\":ombh2,\"omch2\":omch2,\"H0\":H0,\"omk\":omk}\n",
    "    #force=True will make pico evaluate the emulator even if we are outside the training data domain\n",
    "    #Alternatively could catch the CantUsePICO error and evaluate CAMB, but force should work fine\n",
    "    output_dict = pico.get(**input_dict, force=True)\n",
    "    tt = output_dict['dl_TT']\n",
    "    \n",
    "    return tt"
   ]
  },
  {
   "cell_type": "code",
   "execution_count": 13,
   "metadata": {},
   "outputs": [],
   "source": [
    "def get_cov_model(err, alpha):\n",
    "    \"\"\"\n",
    "    Evaluate the covariance matrix using a model where adjacent points have a correlation \n",
    "    scaled by the parameter alpha\n",
    "    \n",
    "    0.16 seconds with vectorization, 0.36 seconds with for loops\n",
    "    \"\"\"\n",
    "    N = len(err)\n",
    "    C = np.zeros([N,N])\n",
    "    #Compute each element in the covariance matrix\n",
    "    err_shift_1 = np.roll(err,-1) #Get the error shifted by one, to compute k=1 correlation terms\n",
    "    #Compute the diagonal and k=1 terms\n",
    "    diag_terms = err**2\n",
    "    diag_k1_terms = alpha*np.abs(err[0:-1]*err_shift_1[0:-1]) #Should I take the absolute value?\n",
    "    #Cast the terms into matrix form and combine to get the final covariance matrix\n",
    "    C_diag = np.diag(np.array(diag_terms))\n",
    "    C_diag_k1 = np.diag(np.array(diag_k1_terms), k=1)\n",
    "    C_diag_km1 = np.diag(np.array(diag_k1_terms), k=-1)\n",
    "    C = C_diag + C_diag_k1 + C_diag_km1\n",
    "    \n",
    "    return C\n",
    "\n",
    "def log_likelihood_WMAP(theta, multipole, p_data, err, covariance_model):\n",
    "    \"\"\"\n",
    "    Evaluate the chi-sq metric of a PICO fit with a neighbour-correlation model or\n",
    "    an uncorrelated error model, given a set of model parameters stored in the array theta\n",
    "    \n",
    "    Return the log likelihood probability, which is equal to -chi_sq\n",
    "    \"\"\"\n",
    "    \n",
    "    #Get p_model using get_PICO_spectrum(theta)\n",
    "    pico_tt = get_PICO_spectrum(theta) #Note that the last element of theta isn't used, but it shouldnt cause a problem because I read the theta values out properly in get_PICO_spectrum\n",
    "    p_model = pico_tt[2:len(multipole)+2]\n",
    "    \n",
    "    if covariance_model == 'correlated':\n",
    "        alpha = theta[7] #Get the covariance scaling parameter\n",
    "\n",
    "        At = np.array([p_data - p_model])\n",
    "        A = np.transpose(At)\n",
    "        C_inv = np.linalg.inv(get_cov_model(err, alpha))\n",
    "\n",
    "        chi_sq = np.dot(At, np.dot(C_inv,A))[0,0] #Evaluate the matrix multiplication of chi-squared terms\n",
    "\n",
    "    elif covariance_model == 'uncorrelated':\n",
    "        x = np.asarray(p_data)\n",
    "        y = np.asarray(p_model)\n",
    "        error = np.asarray(err)\n",
    "        \n",
    "        chi_sq = sum((x-y)**2/error**2)\n",
    "\n",
    "    return -chi_sq\n",
    "\n",
    "def log_prior_WMAP(theta):\n",
    "    \"\"\"\n",
    "    Evaluate the log prior probability function given model parameters\n",
    "    \n",
    "    Return 0.0 if the parameters fall within our constraints, else return -np.inf\n",
    "    \"\"\"\n",
    "    H0, ombh2, omch2, omk, tau, As, ns, alpha = theta #Unpack model parameters\n",
    "    \n",
    "    #Convert units of Omega params\n",
    "    h = H0/100\n",
    "    Omb = ombh2/(h**2)\n",
    "    Omde = omch2/(h**2)\n",
    "    \n",
    "    #Check that the params are allowed by our physical constraints\n",
    "    if 0. <= Omb <= 1. and 0. < Omde < 1. and -1.<=alpha<=1.:\n",
    "        return 0.0 # the constant doesn't matter since MCMCs only care about *ratios* of probabilities\n",
    "    return -np.inf # log(0) = -inf\n",
    "\n",
    "def log_post_WMAP(theta, multipole, p_data, err, covariance_model):\n",
    "    \"\"\"\n",
    "    Evaluate the log posterior probability function given WMAP data and model parameters\n",
    "    \"\"\"\n",
    "    lp = log_prior_WMAP(theta)\n",
    "    if not np.isfinite(lp):\n",
    "        return -np.inf\n",
    "    return lp + log_likelihood_WMAP(theta, multipole, p_data, err, covariance_model)"
   ]
  },
  {
   "cell_type": "code",
   "execution_count": 14,
   "metadata": {},
   "outputs": [
    {
     "name": "stdout",
     "output_type": "stream",
     "text": [
      "0.38057589530944824 seconds per log_post_WMAP call\n",
      "Log Posterior value for the given params: -1412.6132674433113\n"
     ]
    }
   ],
   "source": [
    "#Test the log_post_WMAP function using a dummy set of parameter values\n",
    "pars_initialGuess=np.asarray([70,0.02,0.1,0.0,0.05,2e-9,0.97,0.07])\n",
    "covariance_model = 'correlated'\n",
    "\n",
    "t1 = t.time()\n",
    "p_log_post = log_post_WMAP(pars_initialGuess, multipole, power, errPower, covariance_model)\n",
    "t2 = t.time()\n",
    "print(t2-t1,'seconds per log_post_WMAP call')\n",
    "print('Log Posterior value for the given params:',p_log_post)"
   ]
  },
  {
   "cell_type": "markdown",
   "metadata": {},
   "source": [
    "## MCMC Helper Functions"
   ]
  },
  {
   "cell_type": "markdown",
   "metadata": {},
   "source": [
    "MCMC Animation"
   ]
  },
  {
   "cell_type": "code",
   "execution_count": 15,
   "metadata": {},
   "outputs": [],
   "source": [
    "def plot_SNe_sample(x_data, flat_samples, ind):\n",
    "    #Get the parameters, create the corresponding cosmo model, and evaluate mu\n",
    "    sample = flat_samples[ind]\n",
    "    H0, Om0, Ode0 = sample\n",
    "    cosmo = LambdaCDM(H0=H0, Om0=Om0, Ode0=Ode0) \n",
    "    y_model = mu_func(x_data, cosmo)\n",
    "    #Plot the fit for these parameters\n",
    "    plt.plot(x_data, y_model, alpha=0.01, color='red',zorder=2)\n",
    "    #Save the figure to add to the animation\n",
    "    fig_name = 'frame'+str(ind)+'.png'\n",
    "    plt.savefig(fig_name)\n",
    "    \n",
    "    return fig_name\n",
    "\n",
    "def plot_WMAP_sample(x_data, flat_samples, ind):\n",
    "    #Get the parameters and evaluate the corresponding PICO model\n",
    "    sample = flat_samples[ind]\n",
    "    y_model = get_PICO_spectrum(sample)\n",
    "    y_model = y_model[2:len(x_data)+2]\n",
    "    #Plot the fit for these parameters\n",
    "    plt.plot(x_data, y_model, alpha=0.01, color='red',zorder=2)\n",
    "    #Save the figure to add to the animation\n",
    "    fig_name = 'frame'+str(ind)+'.png'\n",
    "    plt.savefig(fig_name)\n",
    "    \n",
    "    return fig_name\n",
    "    \n",
    "def write_animation(fig_name_list, filename):\n",
    "    \"\"\"\n",
    "    Take a series of .png frames and animate them into a .gif\n",
    "    \"\"\"\n",
    "    # build gif from the frames in the directory\n",
    "    with imageio.get_writer(filename, mode='I') as writer:\n",
    "        for fig_name in fig_name_list:\n",
    "            image = imageio.imread(fig_name)\n",
    "            writer.append_data(image)\n",
    "\n",
    "    # Clear the files from the directory files\n",
    "    for fig_name in set(fig_name_list):\n",
    "        os.remove(fig_name)\n",
    "        \n",
    "    print('Animation saved as ', filename)\n",
    "\n",
    "def MCMC_animation(sampler, x_data, y_data, y_err, dataset, filename, N_samples):\n",
    "    \"\"\"\n",
    "    Create an animation of the first N_samples of the MCMC fit\n",
    "    \"\"\"\n",
    "    \n",
    "    #Plot the original data\n",
    "    plt.figure(figsize=(7,7))\n",
    "    if dataset == 'SNe':\n",
    "        plt.plot(x_data, y_data,'.k')\n",
    "        #plt.errorbar(x_data, y_data, yerr=y_err, linestyle = 'None', fmt='.k',mec='black',mfc='black',ecolor='grey',zorder=1)\n",
    "        plt.xlabel(r'$z$')\n",
    "        plt.ylabel(r'$m-M (Mag)$')\n",
    "        plt.xscale('log')\n",
    "        plt.title('SCP Union 2.1 SNe Ia Data')\n",
    "    if dataset =='WMAP':\n",
    "        plt.plot(multipole,power)\n",
    "        #plt.errorbar(wmap[:,0],wmap[:,1],wmap[:,2],fmt='*')\n",
    "        plt.xlabel('Multipole Moment')\n",
    "        plt.ylabel('Power Spectrum')\n",
    "        plt.title('WMAP Satellite 9-year CMB Data')\n",
    "        plt.legend()\n",
    "    \n",
    "    #Get the samples to plot\n",
    "    flat_samples = sampler.get_chain(flat=True)[:N_samples]\n",
    "    \n",
    "    #Plot each sample and save the plot frame as a .png\n",
    "    fig_name_list = []\n",
    "    for ind in range(N_samples):\n",
    "        if dataset == 'SNe':\n",
    "            fig_name = plot_SNe_sample(x_data, flat_samples, ind)\n",
    "        if dataset == 'WMAP':\n",
    "            fig_name = plot_WMAP_sample(x_data, flat_samples, ind)\n",
    "        #Store the frame filename\n",
    "        fig_name_list.append(fig_name)\n",
    "        \n",
    "    #Collect the .png frames and save them as a .gif animation\n",
    "    write_animation(fig_name_list, filename)"
   ]
  },
  {
   "cell_type": "code",
   "execution_count": null,
   "metadata": {},
   "outputs": [],
   "source": []
  },
  {
   "cell_type": "markdown",
   "metadata": {},
   "source": [
    "## WMAP MCMC Fitting"
   ]
  },
  {
   "cell_type": "markdown",
   "metadata": {},
   "source": [
    "WMAP MCMC Animation"
   ]
  },
  {
   "cell_type": "code",
   "execution_count": 36,
   "metadata": {},
   "outputs": [],
   "source": [
    "#Check tau_f to tune MCMC, show corner plots of results\n",
    "#Plot the posterior fit with the data\n",
    "#Convert omega*h^2 values to omega\n",
    "\n",
    "def run_mcmc(args, ndim, nwalkers, initial_pos, backend_filename, plot_convergence):\n",
    "    \n",
    "    # Set up the backend JUST IN CASE\n",
    "    backend = emcee.backends.HDFBackend(backend_filename)\n",
    "    backend.reset(nwalkers, ndim) #reset if it's already been created\n",
    "\n",
    "    # Initialize the sampler\n",
    "    sampler = emcee.EnsembleSampler(nwalkers, ndim, log_post_WMAP, args=args)\n",
    "    \n",
    "    #run until converged , with the option of plotting convergence\n",
    "    autocorr, tau = burn_in(sampler,plot_convergence)\n",
    "    \n",
    "    burnin = int(2 * np.max(tau))\n",
    "    thin = int(0.5 * np.min(tau))\n",
    "    \n",
    "    print(\"Mean autocorrelation time: {0:.3f} steps\".format(np.mean(tau)))\n",
    "    print(\"burn-in: {0}\".format(burnin))\n",
    "    print(\"thin: {0}\".format(thin))\n",
    "    \n",
    "    flat_samples = sampler.get_chain(discard=burnin, flat=True, thin=thin)\n",
    "    \n",
    "    return sampler, flat_samples\n",
    "\n",
    "def plot_convergence(autocorr):\n",
    "    n = 100 * np.arange(1, index + 1)\n",
    "    y = autocorr[:index]\n",
    "    plt.plot(n, n / 100.0, \"--k\")\n",
    "    plt.plot(n, y)\n",
    "    plt.xlim(0, n.max())\n",
    "    plt.ylim(0, y.max() + 0.1 * (y.max() - y.min()))\n",
    "    plt.xlabel(\"number of steps\")\n",
    "    plt.ylabel(r\"mean $\\hat{\\tau}$\")\n",
    "    plt.show()\n",
    "    \n",
    "def burn_in(sampler,plot,max_n=100000):\n",
    "    #(the following code is adapted from an emcee tutorial)\n",
    "    #run mcmc for maximum 100,000 steps, or until converged\n",
    "\n",
    "    # We'll track how the average autocorrelation time estimate changes\n",
    "    index = 0\n",
    "    autocorr = np.empty(max_n)\n",
    "\n",
    "    # This will be useful to testing convergence\n",
    "    old_tau = np.inf\n",
    "\n",
    "    # Now we'll sample for up to max_n steps\n",
    "    for sample in sampler.sample(initial_pos, iterations=max_n, progress=True):\n",
    "        # Only check convergence every 100 steps\n",
    "        if sampler.iteration % 100:\n",
    "            continue\n",
    "\n",
    "        # Compute the autocorrelation time so far\n",
    "        # Using tol=0 means that we'll always get an estimate even if it isn't trustworthy\n",
    "        tau = sampler.get_autocorr_time(tol=0)\n",
    "        autocorr[index] = np.mean(tau)\n",
    "        index += 1\n",
    "\n",
    "        # Check convergence\n",
    "        converged = np.all(tau * 100 < sampler.iteration)\n",
    "        converged &= np.all(np.abs(old_tau - tau) / tau < 0.01)\n",
    "        if converged:\n",
    "            break\n",
    "        old_tau = tau\n",
    "    \n",
    "    tau = sampler.get_autocorr_time()\n",
    "    \n",
    "    if(plot):\n",
    "        plot_convergence(autocorr)\n",
    "    \n",
    "    return autocorr, tau\n"
   ]
  },
  {
   "cell_type": "code",
   "execution_count": 37,
   "metadata": {},
   "outputs": [],
   "source": [
    "import h5py"
   ]
  },
  {
   "cell_type": "code",
   "execution_count": 38,
   "metadata": {},
   "outputs": [
    {
     "name": "stderr",
     "output_type": "stream",
     "text": [
      "  0%|          | 12/100000 [01:15<172:36:31,  6.21s/it]"
     ]
    },
    {
     "name": "stdout",
     "output_type": "stream",
     "text": [
      "emcee: Exception while calling your likelihood function:\n",
      "  params: [ 6.99947073e+01  4.27323983e-02  1.37147839e-01  7.34073507e-03\n",
      "  5.19878484e-02 -2.34797053e-05  9.38351574e-01  7.04824505e-02]\n",
      "  args: (array([   2.,    3.,    4., ..., 1198., 1199., 1200.]), array([  150.6398,   902.1805,   730.3626, ...,  2322.1509, -4873.3315,\n",
      "        7194.978 ]), array([ 708.3154,  565.3141,  471.9324, ..., 5726.6724, 5775.1737,\n",
      "       5811.3539]), 'correlated')\n",
      "  kwargs: {}\n",
      "  exception:\n"
     ]
    },
    {
     "name": "stderr",
     "output_type": "stream",
     "text": [
      "Traceback (most recent call last):\n",
      "  File \"/Users/katiesavard/opt/anaconda3/lib/python3.7/site-packages/emcee/ensemble.py\", line 545, in __call__\n",
      "    return self.f(x, *self.args, **self.kwargs)\n",
      "  File \"<ipython-input-13-002185a00e0d>\", line 78, in log_post_WMAP\n",
      "    return lp + log_likelihood_WMAP(theta, multipole, p_data, err, covariance_model)\n",
      "  File \"<ipython-input-13-002185a00e0d>\", line 40, in log_likelihood_WMAP\n",
      "    C_inv = np.linalg.inv(get_cov_model(err, alpha))\n",
      "  File \"<ipython-input-13-002185a00e0d>\", line 19, in get_cov_model\n",
      "    C = C_diag + C_diag_k1 + C_diag_km1\n",
      "KeyboardInterrupt\n",
      "\n"
     ]
    },
    {
     "ename": "KeyboardInterrupt",
     "evalue": "",
     "output_type": "error",
     "traceback": [
      "\u001b[0;31m---------------------------------------------------------------------------\u001b[0m",
      "\u001b[0;31mKeyboardInterrupt\u001b[0m                         Traceback (most recent call last)",
      "\u001b[0;32m<ipython-input-38-ac32ec7181e7>\u001b[0m in \u001b[0;36m<module>\u001b[0;34m\u001b[0m\n\u001b[1;32m     21\u001b[0m \u001b[0;34m\u001b[0m\u001b[0m\n\u001b[1;32m     22\u001b[0m \u001b[0;34m\u001b[0m\u001b[0m\n\u001b[0;32m---> 23\u001b[0;31m \u001b[0msampler_WMAP\u001b[0m\u001b[0;34m,\u001b[0m \u001b[0mflat_samples_WMAP\u001b[0m \u001b[0;34m=\u001b[0m \u001b[0mrun_mcmc\u001b[0m\u001b[0;34m(\u001b[0m\u001b[0margs\u001b[0m\u001b[0;34m,\u001b[0m \u001b[0mndim\u001b[0m\u001b[0;34m,\u001b[0m \u001b[0mnwalkers\u001b[0m\u001b[0;34m,\u001b[0m \u001b[0minitial_pos\u001b[0m\u001b[0;34m,\u001b[0m \u001b[0mbackend_filename\u001b[0m\u001b[0;34m,\u001b[0m \u001b[0;32mTrue\u001b[0m\u001b[0;34m)\u001b[0m\u001b[0;34m\u001b[0m\u001b[0;34m\u001b[0m\u001b[0m\n\u001b[0m\u001b[1;32m     24\u001b[0m \u001b[0;34m\u001b[0m\u001b[0m\n\u001b[1;32m     25\u001b[0m \u001b[0;31m#Corner plot\u001b[0m\u001b[0;34m\u001b[0m\u001b[0;34m\u001b[0m\u001b[0;34m\u001b[0m\u001b[0m\n",
      "\u001b[0;32m<ipython-input-36-4296077b7cae>\u001b[0m in \u001b[0;36mrun_mcmc\u001b[0;34m(args, ndim, nwalkers, initial_pos, backend_filename, plot_convergence)\u001b[0m\n\u001b[1;32m     14\u001b[0m     \u001b[0;31m#run until converged , with the option of plotting convergence\u001b[0m\u001b[0;34m\u001b[0m\u001b[0;34m\u001b[0m\u001b[0;34m\u001b[0m\u001b[0m\n\u001b[1;32m     15\u001b[0m \u001b[0;34m\u001b[0m\u001b[0m\n\u001b[0;32m---> 16\u001b[0;31m     \u001b[0mstate\u001b[0m \u001b[0;34m=\u001b[0m \u001b[0msampler\u001b[0m\u001b[0;34m.\u001b[0m\u001b[0mrun_mcmc\u001b[0m\u001b[0;34m(\u001b[0m\u001b[0minitial_pos\u001b[0m\u001b[0;34m,\u001b[0m \u001b[0;36m100000\u001b[0m\u001b[0;34m,\u001b[0m \u001b[0mprogress\u001b[0m\u001b[0;34m=\u001b[0m\u001b[0;32mTrue\u001b[0m\u001b[0;34m)\u001b[0m\u001b[0;34m\u001b[0m\u001b[0;34m\u001b[0m\u001b[0m\n\u001b[0m\u001b[1;32m     17\u001b[0m     \u001b[0;31m#autocorr, tau = burn_in(sampler,plot_convergence)\u001b[0m\u001b[0;34m\u001b[0m\u001b[0;34m\u001b[0m\u001b[0;34m\u001b[0m\u001b[0m\n\u001b[1;32m     18\u001b[0m \u001b[0;34m\u001b[0m\u001b[0m\n",
      "\u001b[0;32m~/opt/anaconda3/lib/python3.7/site-packages/emcee/ensemble.py\u001b[0m in \u001b[0;36mrun_mcmc\u001b[0;34m(self, initial_state, nsteps, **kwargs)\u001b[0m\n\u001b[1;32m    382\u001b[0m \u001b[0;34m\u001b[0m\u001b[0m\n\u001b[1;32m    383\u001b[0m         \u001b[0mresults\u001b[0m \u001b[0;34m=\u001b[0m \u001b[0;32mNone\u001b[0m\u001b[0;34m\u001b[0m\u001b[0;34m\u001b[0m\u001b[0m\n\u001b[0;32m--> 384\u001b[0;31m         \u001b[0;32mfor\u001b[0m \u001b[0mresults\u001b[0m \u001b[0;32min\u001b[0m \u001b[0mself\u001b[0m\u001b[0;34m.\u001b[0m\u001b[0msample\u001b[0m\u001b[0;34m(\u001b[0m\u001b[0minitial_state\u001b[0m\u001b[0;34m,\u001b[0m \u001b[0miterations\u001b[0m\u001b[0;34m=\u001b[0m\u001b[0mnsteps\u001b[0m\u001b[0;34m,\u001b[0m \u001b[0;34m**\u001b[0m\u001b[0mkwargs\u001b[0m\u001b[0;34m)\u001b[0m\u001b[0;34m:\u001b[0m\u001b[0;34m\u001b[0m\u001b[0;34m\u001b[0m\u001b[0m\n\u001b[0m\u001b[1;32m    385\u001b[0m             \u001b[0;32mpass\u001b[0m\u001b[0;34m\u001b[0m\u001b[0;34m\u001b[0m\u001b[0m\n\u001b[1;32m    386\u001b[0m \u001b[0;34m\u001b[0m\u001b[0m\n",
      "\u001b[0;32m~/opt/anaconda3/lib/python3.7/site-packages/emcee/ensemble.py\u001b[0m in \u001b[0;36msample\u001b[0;34m(self, initial_state, log_prob0, rstate0, blobs0, iterations, tune, skip_initial_state_check, thin_by, thin, store, progress)\u001b[0m\n\u001b[1;32m    341\u001b[0m \u001b[0;34m\u001b[0m\u001b[0m\n\u001b[1;32m    342\u001b[0m                     \u001b[0;31m# Propose\u001b[0m\u001b[0;34m\u001b[0m\u001b[0;34m\u001b[0m\u001b[0;34m\u001b[0m\u001b[0m\n\u001b[0;32m--> 343\u001b[0;31m                     \u001b[0mstate\u001b[0m\u001b[0;34m,\u001b[0m \u001b[0maccepted\u001b[0m \u001b[0;34m=\u001b[0m \u001b[0mmove\u001b[0m\u001b[0;34m.\u001b[0m\u001b[0mpropose\u001b[0m\u001b[0;34m(\u001b[0m\u001b[0mmodel\u001b[0m\u001b[0;34m,\u001b[0m \u001b[0mstate\u001b[0m\u001b[0;34m)\u001b[0m\u001b[0;34m\u001b[0m\u001b[0;34m\u001b[0m\u001b[0m\n\u001b[0m\u001b[1;32m    344\u001b[0m                     \u001b[0mstate\u001b[0m\u001b[0;34m.\u001b[0m\u001b[0mrandom_state\u001b[0m \u001b[0;34m=\u001b[0m \u001b[0mself\u001b[0m\u001b[0;34m.\u001b[0m\u001b[0mrandom_state\u001b[0m\u001b[0;34m\u001b[0m\u001b[0;34m\u001b[0m\u001b[0m\n\u001b[1;32m    345\u001b[0m \u001b[0;34m\u001b[0m\u001b[0m\n",
      "\u001b[0;32m~/opt/anaconda3/lib/python3.7/site-packages/emcee/moves/red_blue.py\u001b[0m in \u001b[0;36mpropose\u001b[0;34m(self, model, state)\u001b[0m\n\u001b[1;32m     91\u001b[0m \u001b[0;34m\u001b[0m\u001b[0m\n\u001b[1;32m     92\u001b[0m             \u001b[0;31m# Compute the lnprobs of the proposed position.\u001b[0m\u001b[0;34m\u001b[0m\u001b[0;34m\u001b[0m\u001b[0;34m\u001b[0m\u001b[0m\n\u001b[0;32m---> 93\u001b[0;31m             \u001b[0mnew_log_probs\u001b[0m\u001b[0;34m,\u001b[0m \u001b[0mnew_blobs\u001b[0m \u001b[0;34m=\u001b[0m \u001b[0mmodel\u001b[0m\u001b[0;34m.\u001b[0m\u001b[0mcompute_log_prob_fn\u001b[0m\u001b[0;34m(\u001b[0m\u001b[0mq\u001b[0m\u001b[0;34m)\u001b[0m\u001b[0;34m\u001b[0m\u001b[0;34m\u001b[0m\u001b[0m\n\u001b[0m\u001b[1;32m     94\u001b[0m \u001b[0;34m\u001b[0m\u001b[0m\n\u001b[1;32m     95\u001b[0m             \u001b[0;31m# Loop over the walkers and update them accordingly.\u001b[0m\u001b[0;34m\u001b[0m\u001b[0;34m\u001b[0m\u001b[0;34m\u001b[0m\u001b[0m\n",
      "\u001b[0;32m~/opt/anaconda3/lib/python3.7/site-packages/emcee/ensemble.py\u001b[0m in \u001b[0;36mcompute_log_prob\u001b[0;34m(self, coords)\u001b[0m\n\u001b[1;32m    425\u001b[0m                 \u001b[0mmap_func\u001b[0m \u001b[0;34m=\u001b[0m \u001b[0mmap\u001b[0m\u001b[0;34m\u001b[0m\u001b[0;34m\u001b[0m\u001b[0m\n\u001b[1;32m    426\u001b[0m             results = list(\n\u001b[0;32m--> 427\u001b[0;31m                 \u001b[0mmap_func\u001b[0m\u001b[0;34m(\u001b[0m\u001b[0mself\u001b[0m\u001b[0;34m.\u001b[0m\u001b[0mlog_prob_fn\u001b[0m\u001b[0;34m,\u001b[0m \u001b[0;34m(\u001b[0m\u001b[0mp\u001b[0m\u001b[0;34m[\u001b[0m\u001b[0mi\u001b[0m\u001b[0;34m]\u001b[0m \u001b[0;32mfor\u001b[0m \u001b[0mi\u001b[0m \u001b[0;32min\u001b[0m \u001b[0mrange\u001b[0m\u001b[0;34m(\u001b[0m\u001b[0mlen\u001b[0m\u001b[0;34m(\u001b[0m\u001b[0mp\u001b[0m\u001b[0;34m)\u001b[0m\u001b[0;34m)\u001b[0m\u001b[0;34m)\u001b[0m\u001b[0;34m)\u001b[0m\u001b[0;34m\u001b[0m\u001b[0;34m\u001b[0m\u001b[0m\n\u001b[0m\u001b[1;32m    428\u001b[0m             )\n\u001b[1;32m    429\u001b[0m \u001b[0;34m\u001b[0m\u001b[0m\n",
      "\u001b[0;32m~/opt/anaconda3/lib/python3.7/site-packages/emcee/ensemble.py\u001b[0m in \u001b[0;36m__call__\u001b[0;34m(self, x)\u001b[0m\n\u001b[1;32m    543\u001b[0m     \u001b[0;32mdef\u001b[0m \u001b[0m__call__\u001b[0m\u001b[0;34m(\u001b[0m\u001b[0mself\u001b[0m\u001b[0;34m,\u001b[0m \u001b[0mx\u001b[0m\u001b[0;34m)\u001b[0m\u001b[0;34m:\u001b[0m\u001b[0;34m\u001b[0m\u001b[0;34m\u001b[0m\u001b[0m\n\u001b[1;32m    544\u001b[0m         \u001b[0;32mtry\u001b[0m\u001b[0;34m:\u001b[0m\u001b[0;34m\u001b[0m\u001b[0;34m\u001b[0m\u001b[0m\n\u001b[0;32m--> 545\u001b[0;31m             \u001b[0;32mreturn\u001b[0m \u001b[0mself\u001b[0m\u001b[0;34m.\u001b[0m\u001b[0mf\u001b[0m\u001b[0;34m(\u001b[0m\u001b[0mx\u001b[0m\u001b[0;34m,\u001b[0m \u001b[0;34m*\u001b[0m\u001b[0mself\u001b[0m\u001b[0;34m.\u001b[0m\u001b[0margs\u001b[0m\u001b[0;34m,\u001b[0m \u001b[0;34m**\u001b[0m\u001b[0mself\u001b[0m\u001b[0;34m.\u001b[0m\u001b[0mkwargs\u001b[0m\u001b[0;34m)\u001b[0m\u001b[0;34m\u001b[0m\u001b[0;34m\u001b[0m\u001b[0m\n\u001b[0m\u001b[1;32m    546\u001b[0m         \u001b[0;32mexcept\u001b[0m\u001b[0;34m:\u001b[0m  \u001b[0;31m# pragma: no cover\u001b[0m\u001b[0;34m\u001b[0m\u001b[0;34m\u001b[0m\u001b[0m\n\u001b[1;32m    547\u001b[0m             \u001b[0;32mimport\u001b[0m \u001b[0mtraceback\u001b[0m\u001b[0;34m\u001b[0m\u001b[0;34m\u001b[0m\u001b[0m\n",
      "\u001b[0;32m<ipython-input-13-002185a00e0d>\u001b[0m in \u001b[0;36mlog_post_WMAP\u001b[0;34m(theta, multipole, p_data, err, covariance_model)\u001b[0m\n\u001b[1;32m     76\u001b[0m     \u001b[0;32mif\u001b[0m \u001b[0;32mnot\u001b[0m \u001b[0mnp\u001b[0m\u001b[0;34m.\u001b[0m\u001b[0misfinite\u001b[0m\u001b[0;34m(\u001b[0m\u001b[0mlp\u001b[0m\u001b[0;34m)\u001b[0m\u001b[0;34m:\u001b[0m\u001b[0;34m\u001b[0m\u001b[0;34m\u001b[0m\u001b[0m\n\u001b[1;32m     77\u001b[0m         \u001b[0;32mreturn\u001b[0m \u001b[0;34m-\u001b[0m\u001b[0mnp\u001b[0m\u001b[0;34m.\u001b[0m\u001b[0minf\u001b[0m\u001b[0;34m\u001b[0m\u001b[0;34m\u001b[0m\u001b[0m\n\u001b[0;32m---> 78\u001b[0;31m     \u001b[0;32mreturn\u001b[0m \u001b[0mlp\u001b[0m \u001b[0;34m+\u001b[0m \u001b[0mlog_likelihood_WMAP\u001b[0m\u001b[0;34m(\u001b[0m\u001b[0mtheta\u001b[0m\u001b[0;34m,\u001b[0m \u001b[0mmultipole\u001b[0m\u001b[0;34m,\u001b[0m \u001b[0mp_data\u001b[0m\u001b[0;34m,\u001b[0m \u001b[0merr\u001b[0m\u001b[0;34m,\u001b[0m \u001b[0mcovariance_model\u001b[0m\u001b[0;34m)\u001b[0m\u001b[0;34m\u001b[0m\u001b[0;34m\u001b[0m\u001b[0m\n\u001b[0m",
      "\u001b[0;32m<ipython-input-13-002185a00e0d>\u001b[0m in \u001b[0;36mlog_likelihood_WMAP\u001b[0;34m(theta, multipole, p_data, err, covariance_model)\u001b[0m\n\u001b[1;32m     38\u001b[0m         \u001b[0mAt\u001b[0m \u001b[0;34m=\u001b[0m \u001b[0mnp\u001b[0m\u001b[0;34m.\u001b[0m\u001b[0marray\u001b[0m\u001b[0;34m(\u001b[0m\u001b[0;34m[\u001b[0m\u001b[0mp_data\u001b[0m \u001b[0;34m-\u001b[0m \u001b[0mp_model\u001b[0m\u001b[0;34m]\u001b[0m\u001b[0;34m)\u001b[0m\u001b[0;34m\u001b[0m\u001b[0;34m\u001b[0m\u001b[0m\n\u001b[1;32m     39\u001b[0m         \u001b[0mA\u001b[0m \u001b[0;34m=\u001b[0m \u001b[0mnp\u001b[0m\u001b[0;34m.\u001b[0m\u001b[0mtranspose\u001b[0m\u001b[0;34m(\u001b[0m\u001b[0mAt\u001b[0m\u001b[0;34m)\u001b[0m\u001b[0;34m\u001b[0m\u001b[0;34m\u001b[0m\u001b[0m\n\u001b[0;32m---> 40\u001b[0;31m         \u001b[0mC_inv\u001b[0m \u001b[0;34m=\u001b[0m \u001b[0mnp\u001b[0m\u001b[0;34m.\u001b[0m\u001b[0mlinalg\u001b[0m\u001b[0;34m.\u001b[0m\u001b[0minv\u001b[0m\u001b[0;34m(\u001b[0m\u001b[0mget_cov_model\u001b[0m\u001b[0;34m(\u001b[0m\u001b[0merr\u001b[0m\u001b[0;34m,\u001b[0m \u001b[0malpha\u001b[0m\u001b[0;34m)\u001b[0m\u001b[0;34m)\u001b[0m\u001b[0;34m\u001b[0m\u001b[0;34m\u001b[0m\u001b[0m\n\u001b[0m\u001b[1;32m     41\u001b[0m \u001b[0;34m\u001b[0m\u001b[0m\n\u001b[1;32m     42\u001b[0m         \u001b[0mchi_sq\u001b[0m \u001b[0;34m=\u001b[0m \u001b[0mnp\u001b[0m\u001b[0;34m.\u001b[0m\u001b[0mdot\u001b[0m\u001b[0;34m(\u001b[0m\u001b[0mAt\u001b[0m\u001b[0;34m,\u001b[0m \u001b[0mnp\u001b[0m\u001b[0;34m.\u001b[0m\u001b[0mdot\u001b[0m\u001b[0;34m(\u001b[0m\u001b[0mC_inv\u001b[0m\u001b[0;34m,\u001b[0m\u001b[0mA\u001b[0m\u001b[0;34m)\u001b[0m\u001b[0;34m)\u001b[0m\u001b[0;34m[\u001b[0m\u001b[0;36m0\u001b[0m\u001b[0;34m,\u001b[0m\u001b[0;36m0\u001b[0m\u001b[0;34m]\u001b[0m \u001b[0;31m#Evaluate the matrix multiplication of chi-squared terms\u001b[0m\u001b[0;34m\u001b[0m\u001b[0;34m\u001b[0m\u001b[0m\n",
      "\u001b[0;32m<ipython-input-13-002185a00e0d>\u001b[0m in \u001b[0;36mget_cov_model\u001b[0;34m(err, alpha)\u001b[0m\n\u001b[1;32m     17\u001b[0m     \u001b[0mC_diag_k1\u001b[0m \u001b[0;34m=\u001b[0m \u001b[0mnp\u001b[0m\u001b[0;34m.\u001b[0m\u001b[0mdiag\u001b[0m\u001b[0;34m(\u001b[0m\u001b[0mnp\u001b[0m\u001b[0;34m.\u001b[0m\u001b[0marray\u001b[0m\u001b[0;34m(\u001b[0m\u001b[0mdiag_k1_terms\u001b[0m\u001b[0;34m)\u001b[0m\u001b[0;34m,\u001b[0m \u001b[0mk\u001b[0m\u001b[0;34m=\u001b[0m\u001b[0;36m1\u001b[0m\u001b[0;34m)\u001b[0m\u001b[0;34m\u001b[0m\u001b[0;34m\u001b[0m\u001b[0m\n\u001b[1;32m     18\u001b[0m     \u001b[0mC_diag_km1\u001b[0m \u001b[0;34m=\u001b[0m \u001b[0mnp\u001b[0m\u001b[0;34m.\u001b[0m\u001b[0mdiag\u001b[0m\u001b[0;34m(\u001b[0m\u001b[0mnp\u001b[0m\u001b[0;34m.\u001b[0m\u001b[0marray\u001b[0m\u001b[0;34m(\u001b[0m\u001b[0mdiag_k1_terms\u001b[0m\u001b[0;34m)\u001b[0m\u001b[0;34m,\u001b[0m \u001b[0mk\u001b[0m\u001b[0;34m=\u001b[0m\u001b[0;34m-\u001b[0m\u001b[0;36m1\u001b[0m\u001b[0;34m)\u001b[0m\u001b[0;34m\u001b[0m\u001b[0;34m\u001b[0m\u001b[0m\n\u001b[0;32m---> 19\u001b[0;31m     \u001b[0mC\u001b[0m \u001b[0;34m=\u001b[0m \u001b[0mC_diag\u001b[0m \u001b[0;34m+\u001b[0m \u001b[0mC_diag_k1\u001b[0m \u001b[0;34m+\u001b[0m \u001b[0mC_diag_km1\u001b[0m\u001b[0;34m\u001b[0m\u001b[0;34m\u001b[0m\u001b[0m\n\u001b[0m\u001b[1;32m     20\u001b[0m \u001b[0;34m\u001b[0m\u001b[0m\n\u001b[1;32m     21\u001b[0m     \u001b[0;32mreturn\u001b[0m \u001b[0mC\u001b[0m\u001b[0;34m\u001b[0m\u001b[0;34m\u001b[0m\u001b[0m\n",
      "\u001b[0;31mKeyboardInterrupt\u001b[0m: "
     ]
    }
   ],
   "source": [
    "ndim = 8 # number of parameters\n",
    "nwalkers = 20 #number of walkers\n",
    "\n",
    "#set up initial guesses\n",
    "H0_initial = 70\n",
    "ombh2_initial =0.02\n",
    "omch2_initial = 0.1\n",
    "omk_initial = 0\n",
    "tau_initial = 0.05\n",
    "As_initial = 2e-9\n",
    "ns_initial = 0.97\n",
    "alpha_initial = 0.07\n",
    "pars_initialGuess=np.asarray([H0_initial, ombh2_initial, omch2_initial, omk_initial, tau_initial, As_initial, ns_initial, alpha_initial])\n",
    "\n",
    "initial_pos = pars_initialGuess + 0.01 * np.random.randn(nwalkers, ndim) #gaussian ball of walkers\n",
    "\n",
    "args = (multipole, power, errPower, covariance_model)\n",
    "\n",
    "backend_filename = \"wmap_chain.h5\"\n",
    "\n",
    "\n",
    "\n",
    "sampler_WMAP, flat_samples_WMAP = run_mcmc(args, ndim, nwalkers, initial_pos, backend_filename, True)\n",
    "\n",
    "#Corner plot\n",
    "labels = [\"H0\", \"Om0\", \"Ode0\"]\n",
    "fig = corner.corner(flat_samples_WMAP, bins = 50, labels=labels, show_titles=True, quantiles=[0.16, 0.5, 0.84]);"
   ]
  },
  {
   "cell_type": "code",
   "execution_count": null,
   "metadata": {},
   "outputs": [],
   "source": [
    "filename = 'WMAP_MCMC_animation.gif'\n",
    "dataset = 'WMAP'\n",
    "N_samples = 100\n",
    "#Create animation of MCMC fitting\n",
    "MCMC_animation(sampler_WMAP, multipole, power, errPower, dataset, filename, N_samples)"
   ]
  },
  {
   "cell_type": "markdown",
   "metadata": {},
   "source": [
    "## Posterior Probability Function for SNe Ia"
   ]
  },
  {
   "cell_type": "code",
   "execution_count": 9,
   "metadata": {},
   "outputs": [],
   "source": [
    "def mu_func(z, cosmo):\n",
    "    \"\"\"\n",
    "    Given a redshift value z and universe model cosmo, convert to luminosity distance and calculate \n",
    "    the distance modulus mu (aka m-M)\n",
    "    \n",
    "    Return mu\n",
    "    \"\"\"\n",
    "    D_L = cosmo.luminosity_distance(z).value\n",
    "    mu = 5*np.log10(D_L)+25\n",
    "    return mu\n",
    "\n",
    "def log_likelihood_sn(theta, z, mu_data, mu_err):\n",
    "    #Get the parameters and create the corresponding cosmo model\n",
    "    H0, Om0, Ode0 = theta\n",
    "    cosmo = LambdaCDM(H0=H0, Om0=Om0, Ode0=Ode0)\n",
    "    #Evaluate the model at the data point z values\n",
    "    mu_model = mu_func(z, cosmo)\n",
    "    \n",
    "    sigma2 = mu_err ** 2\n",
    "    return -0.5 * np.sum((mu_data - mu_model) ** 2 / sigma2 + np.log(2*np.pi*sigma2)) # the 2pi factor doesn't affect the shape\n",
    "\n",
    "def log_prior_sn(theta):\n",
    "    H0, Om0, Ode0 = theta\n",
    "    #Check that the params are allowed by our physical constraints\n",
    "    if 0. <= Om0 <= 1. and 0. < Ode0 < 1.:\n",
    "        return 0.0 # the constant doesn't matter since MCMCs only care about *ratios* of probabilities\n",
    "    return -np.inf # log(0) = -inf\n",
    "\n",
    "def log_post_sn(theta, z, mu_data, mu_err):\n",
    "    lp = log_prior_sn(theta)\n",
    "    if not np.isfinite(lp):\n",
    "        return -np.inf\n",
    "    return lp + log_likelihood_sn(theta, z, mu_data, mu_err)"
   ]
  },
  {
   "cell_type": "markdown",
   "metadata": {},
   "source": [
    "## SNe Ia MCMC Fitting"
   ]
  },
  {
   "cell_type": "code",
   "execution_count": 10,
   "metadata": {},
   "outputs": [],
   "source": [
    "#Check tau_f to tune MCMC, show corner plots of results\n",
    "#Plot the posterior fit with the data\n",
    "\n",
    "#Calculate posterior for omega_k = 1 - omega_m - omega_de"
   ]
  },
  {
   "cell_type": "markdown",
   "metadata": {},
   "source": [
    "SNe MCMC Animation"
   ]
  },
  {
   "cell_type": "code",
   "execution_count": 11,
   "metadata": {},
   "outputs": [
    {
     "ename": "NameError",
     "evalue": "name 'sampler_SNe' is not defined",
     "output_type": "error",
     "traceback": [
      "\u001b[0;31m---------------------------------------------------------------------------\u001b[0m",
      "\u001b[0;31mNameError\u001b[0m                                 Traceback (most recent call last)",
      "\u001b[0;32m<ipython-input-11-0b78ef69c4d9>\u001b[0m in \u001b[0;36m<module>\u001b[0;34m\u001b[0m\n\u001b[1;32m      3\u001b[0m \u001b[0mN_samples\u001b[0m \u001b[0;34m=\u001b[0m \u001b[0;36m100\u001b[0m\u001b[0;34m\u001b[0m\u001b[0;34m\u001b[0m\u001b[0m\n\u001b[1;32m      4\u001b[0m \u001b[0;31m#Create animation of MCMC fitting\u001b[0m\u001b[0;34m\u001b[0m\u001b[0;34m\u001b[0m\u001b[0;34m\u001b[0m\u001b[0m\n\u001b[0;32m----> 5\u001b[0;31m \u001b[0mMCMC_animation\u001b[0m\u001b[0;34m(\u001b[0m\u001b[0msampler_SNe\u001b[0m\u001b[0;34m,\u001b[0m \u001b[0msn_z\u001b[0m\u001b[0;34m,\u001b[0m \u001b[0msn_dm\u001b[0m\u001b[0;34m,\u001b[0m \u001b[0msn_dm_err\u001b[0m\u001b[0;34m,\u001b[0m \u001b[0mdataset\u001b[0m\u001b[0;34m,\u001b[0m \u001b[0mfilename\u001b[0m\u001b[0;34m,\u001b[0m \u001b[0mN_samples\u001b[0m\u001b[0;34m)\u001b[0m\u001b[0;34m\u001b[0m\u001b[0;34m\u001b[0m\u001b[0m\n\u001b[0m",
      "\u001b[0;31mNameError\u001b[0m: name 'sampler_SNe' is not defined"
     ]
    }
   ],
   "source": [
    "filename = 'SNe_MCMC_animation.gif'\n",
    "dataset = 'SNe'\n",
    "N_samples = 100\n",
    "#Create animation of MCMC fitting\n",
    "MCMC_animation(sampler_SNe, sn_z, sn_dm, sn_dm_err, dataset, filename, N_samples)"
   ]
  },
  {
   "cell_type": "markdown",
   "metadata": {},
   "source": [
    "## Overlay comparison of WMAP and SNe Ia Posterior distributions"
   ]
  },
  {
   "cell_type": "code",
   "execution_count": 12,
   "metadata": {},
   "outputs": [],
   "source": [
    "#Overlay the posteriors for the omegas to compare between the two measurements\n",
    "#Maybe include best fit values from Planck?"
   ]
  },
  {
   "cell_type": "code",
   "execution_count": null,
   "metadata": {},
   "outputs": [],
   "source": []
  }
 ],
 "metadata": {
  "kernelspec": {
   "display_name": "Python 3",
   "language": "python",
   "name": "python3"
  },
  "language_info": {
   "codemirror_mode": {
    "name": "ipython",
    "version": 3
   },
   "file_extension": ".py",
   "mimetype": "text/x-python",
   "name": "python",
   "nbconvert_exporter": "python",
   "pygments_lexer": "ipython3",
   "version": "3.7.4"
  }
 },
 "nbformat": 4,
 "nbformat_minor": 2
}
