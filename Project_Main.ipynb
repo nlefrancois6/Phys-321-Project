{
 "cells": [
  {
   "cell_type": "markdown",
   "metadata": {},
   "source": [
    "## Import Statements"
   ]
  },
  {
   "cell_type": "code",
   "execution_count": 17,
   "metadata": {},
   "outputs": [],
   "source": [
    "import numpy as np\n",
    "import pypico\n",
    "import time as t"
   ]
  },
  {
   "cell_type": "markdown",
   "metadata": {},
   "source": [
    "## Load data (WMAP, PICO, SNe Ia)"
   ]
  },
  {
   "cell_type": "code",
   "execution_count": 3,
   "metadata": {},
   "outputs": [],
   "source": [
    "#Load the wmap satellite data\n",
    "wmap=np.loadtxt('wmap_tt_spectrum_9yr_v5.txt')\n",
    "multipole = wmap[:,0]; power = wmap[:,1]; errPower = wmap[:,2]\n",
    "\n",
    "#Load the pico training data\n",
    "pico = pypico.load_pico(\"jcset_py3.dat\")\n",
    "\n",
    "#Load the SNe Ia data\n",
    "sn_z,sn_dm,sn_dm_err = np.loadtxt(\"SCPUnion2.1_mu_vs_z.txt\",delimiter=\"\\t\",skiprows=5, usecols = (1,2,3),unpack=True)"
   ]
  },
  {
   "cell_type": "markdown",
   "metadata": {},
   "source": [
    "## Posterior Probability Function for WMAP"
   ]
  },
  {
   "cell_type": "code",
   "execution_count": 14,
   "metadata": {},
   "outputs": [],
   "source": [
    "def get_PICO_spectrum(pars):\n",
    "    \"\"\"\n",
    "    Function to evaluate the CAMB model emulator for a given set of parameters. \n",
    "    Much faster than the full CAMB model\n",
    "    \"\"\"\n",
    "    \n",
    "    H0, ombh2, omch2, omk, tau, As, ns, alpha = pars #Unpack model parameters\n",
    "    \n",
    "    input_dict = {\"As\": As,\"ns\": ns,\"tau\": tau,\"ombh2\":ombh2,\"omch2\":omch2,\"H0\":H0,\"omk\":omk}\n",
    "    #force=True will make pico evaluate the emulator even if we are outside the training data domain\n",
    "    #Alternatively could catch the CantUsePICO error and evaluate CAMB, but force should work fine\n",
    "    output_dict = pico.get(**input_dict, force=True)\n",
    "    tt = output_dict['dl_TT']\n",
    "    \n",
    "    return tt"
   ]
  },
  {
   "cell_type": "code",
   "execution_count": 15,
   "metadata": {},
   "outputs": [],
   "source": [
    "def get_cov_model(err, alpha):\n",
    "    \"\"\"\n",
    "    Evaluate the covariance matrix using a model where adjacent points have a correlation \n",
    "    scaled by the parameter alpha\n",
    "    \n",
    "    0.16 seconds with vectorization, 0.36 seconds with for loops\n",
    "    \"\"\"\n",
    "    N = len(err)\n",
    "    C = np.zeros([N,N])\n",
    "    #Compute each element in the covariance matrix\n",
    "    err_shift_1 = np.roll(err,-1) #Get the error shifted by one, to compute k=1 correlation terms\n",
    "    #Compute the diagonal and k=1 terms\n",
    "    diag_terms = err**2\n",
    "    diag_k1_terms = alpha*np.abs(err[0:-1]*err_shift_1[0:-1]) #Should I take the absolute value?\n",
    "    #Cast the terms into matrix form and combine to get the final covariance matrix\n",
    "    C_diag = np.diag(np.array(diag_terms))\n",
    "    C_diag_k1 = np.diag(np.array(diag_k1_terms), k=1)\n",
    "    C_diag_km1 = np.diag(np.array(diag_k1_terms), k=-1)\n",
    "    C = C_diag + C_diag_k1 + C_diag_km1\n",
    "    \n",
    "    return C\n",
    "\n",
    "def log_likelihood_WMAP(theta, multipole, p_data, err):\n",
    "    \"\"\"\n",
    "    Evaluate the chi-sq metric of a PICO fit with a neighbour-correlation model, \n",
    "    given a set of model parameters stored in the array theta\n",
    "    \n",
    "    Return the log likelihood probability, which is equal to -chi_sq\n",
    "    \"\"\"\n",
    "    \n",
    "    #Could add a control switch to evaluate the correlated or uncorrelated chi-sq\n",
    "    \n",
    "    alpha = theta[7] #Get the covariance scaling parameter\n",
    "    \n",
    "    #Get p_model using get_PICO_spectrum(theta)\n",
    "    pico_tt = get_PICO_spectrum(theta) #Note that the last element of theta isn't used, but it shouldnt cause a problem because I read the theta values out properly in get_PICO_spectrum\n",
    "    p_model = pico_tt[2:len(multipole)+2]\n",
    "    \n",
    "    A = np.array([p_data - p_model])\n",
    "    At = np.transpose(A)\n",
    "    C_inv = np.linalg.inv(get_cov_model(err, alpha))\n",
    "    \n",
    "    chi_sq_mat = At*C_inv*A #Evaluate the matrix of chi-squared terms\n",
    "    chi_sq = sum(sum(chi_sq_mat)) #Evaluate the chi-squared metric by summing all terms\n",
    "    \n",
    "    return -chi_sq\n",
    "\n",
    "def log_prior_WMAP(theta):\n",
    "    \"\"\"\n",
    "    Evaluate the log prior probability function given model parameters\n",
    "    \n",
    "    Return 0.0 if the parameters fall within our constraints, else return -np.inf\n",
    "    \"\"\"\n",
    "    H0, ombh2, omch2, omk, tau, As, ns, alpha = theta #Unpack model parameters\n",
    "    \n",
    "    #Convert units of Omega params\n",
    "    h = H0/100\n",
    "    Omb = ombh2/(h**2)\n",
    "    Omde = omch2/(h**2)\n",
    "    \n",
    "    #Check that the params are allowed by our physical constraints\n",
    "    if 0. <= Omb <= 1. and 0. < Omde < 1. and -1.<=alpha<=1.:\n",
    "        return 0.0 # the constant doesn't matter since MCMCs only care about *ratios* of probabilities\n",
    "    return -np.inf # log(0) = -inf\n",
    "\n",
    "def log_post_WMAP(theta, multipole, p_data, err):\n",
    "    \"\"\"\n",
    "    Evaluate the log posterior probability function given WMAP data and model parameters\n",
    "    \"\"\"\n",
    "    lp = log_prior_WMAP(theta)\n",
    "    if not np.isfinite(lp):\n",
    "        return -np.inf\n",
    "    return lp + log_likelihood_WMAP(theta, multipole, p_data, err)"
   ]
  },
  {
   "cell_type": "code",
   "execution_count": 22,
   "metadata": {},
   "outputs": [
    {
     "name": "stdout",
     "output_type": "stream",
     "text": [
      "0.47792816162109375 seconds per log_post_WMAP call\n",
      "Log Posterior value for the given params: -1414.823194085791\n"
     ]
    }
   ],
   "source": [
    "#Test the log_post_WMAP function using a dummy set of parameter values\n",
    "pars_initialGuess=np.asarray([70,0.02,0.1,0.0,0.05,2e-9,0.97,0.1])\n",
    "\n",
    "t1 = t.time()\n",
    "p_log_post = log_post_WMAP(pars_initialGuess, multipole, power, errPower)\n",
    "t2 = t.time()\n",
    "print(t2-t1,'seconds per log_post_WMAP call')\n",
    "print('Log Posterior value for the given params:',p_log_post)"
   ]
  },
  {
   "cell_type": "markdown",
   "metadata": {},
   "source": [
    "## MCMC Helper Functions"
   ]
  },
  {
   "cell_type": "markdown",
   "metadata": {},
   "source": [
    "MCMC Animation"
   ]
  },
  {
   "cell_type": "code",
   "execution_count": 1,
   "metadata": {},
   "outputs": [],
   "source": [
    "def plot_SNe_sample(x_data, flat_samples, ind):\n",
    "    #Get the parameters, create the corresponding cosmo model, and evaluate mu\n",
    "    sample = flat_samples[ind]\n",
    "    H0, Om0, Ode0 = sample\n",
    "    cosmo = LambdaCDM(H0=H0, Om0=Om0, Ode0=Ode0) \n",
    "    y_model = mu_func(x_data, cosmo)\n",
    "    #Plot the fit for these parameters\n",
    "    plt.plot(x_data, y_model, alpha=0.01, color='red',zorder=2)\n",
    "    #Save the figure to add to the animation\n",
    "    fig_name = 'frame'+str(ind)+'.png'\n",
    "    plt.savefig(fig_name)\n",
    "    \n",
    "    return fig_name\n",
    "\n",
    "def plot_WMAP_sample(x_data, flat_samples, ind):\n",
    "    #Get the parameters and evaluate the corresponding PICO model\n",
    "    sample = flat_samples[ind]\n",
    "    y_model = get_PICO_spectrum(sample)\n",
    "    y_model = y_model[2:len(x_data)+2]\n",
    "    #Plot the fit for these parameters\n",
    "    plt.plot(x_data, y_model, alpha=0.01, color='red',zorder=2)\n",
    "    #Save the figure to add to the animation\n",
    "    fig_name = 'frame'+str(ind)+'.png'\n",
    "    plt.savefig(fig_name)\n",
    "    \n",
    "    return fig_name\n",
    "    \n",
    "def write_animation(fig_name_list, filename):\n",
    "    \"\"\"\n",
    "    Take a series of .png frames and animate them into a .gif\n",
    "    \"\"\"\n",
    "    # build gif from the frames in the directory\n",
    "    with imageio.get_writer(filename, mode='I') as writer:\n",
    "        for fig_name in fig_name_list:\n",
    "            image = imageio.imread(fig_name)\n",
    "            writer.append_data(image)\n",
    "\n",
    "    # Clear the files from the directory files\n",
    "    for fig_name in set(fig_name_list):\n",
    "        os.remove(fig_name)\n",
    "        \n",
    "    print('Animation saved as ', filename)\n",
    "\n",
    "def MCMC_animation(sampler, x_data, y_data, y_err, dataset, filename, N_samples):\n",
    "    \"\"\"\n",
    "    Create an animation of the first N_samples of the MCMC fit\n",
    "    \"\"\"\n",
    "    \n",
    "    #Plot the original data\n",
    "    plt.figure(figsize=(7,7))\n",
    "    if dataset == 'SNe':\n",
    "        plt.plot(x_data, y_data,'.k')\n",
    "        #plt.errorbar(x_data, y_data, yerr=y_err, linestyle = 'None', fmt='.k',mec='black',mfc='black',ecolor='grey',zorder=1)\n",
    "        plt.xlabel(r'$z$')\n",
    "        plt.ylabel(r'$m-M (Mag)$')\n",
    "        plt.xscale('log')\n",
    "        plt.title('SCP Union 2.1 SNe Ia Data')\n",
    "    if dataset =='WMAP':\n",
    "        plt.plot(multipole,power)\n",
    "        #plt.errorbar(wmap[:,0],wmap[:,1],wmap[:,2],fmt='*')\n",
    "        plt.xlabel('Multipole Moment')\n",
    "        plt.ylabel('Power Spectrum')\n",
    "        plt.title('WMAP Satellite 9-year CMB Data')\n",
    "        plt.legend()\n",
    "    \n",
    "    #Get the samples to plot\n",
    "    flat_samples = sampler.get_chain(flat=True)[:N_samples]\n",
    "    \n",
    "    #Plot each sample and save the plot frame as a .png\n",
    "    fig_name_list = []\n",
    "    for ind in range(N_samples):\n",
    "        if dataset == 'SNe':\n",
    "            fig_name = plot_SNe_sample(x_data, flat_samples, ind)\n",
    "        if dataset == 'WMAP':\n",
    "            fig_name = plot_WMAP_sample(x_data, flat_samples, ind)\n",
    "        #Store the frame filename\n",
    "        fig_name_list.append(fig_name)\n",
    "        \n",
    "    #Collect the .png frames and save them as a .gif animation\n",
    "    write_animation(fig_name_list, filename)"
   ]
  },
  {
   "cell_type": "code",
   "execution_count": null,
   "metadata": {},
   "outputs": [],
   "source": []
  },
  {
   "cell_type": "markdown",
   "metadata": {},
   "source": [
    "## WMAP MCMC Fitting"
   ]
  },
  {
   "cell_type": "code",
   "execution_count": 4,
   "metadata": {},
   "outputs": [],
   "source": [
    "#Check tau_f to tune MCMC, show corner plots of results\n",
    "#Plot the posterior fit with the data\n",
    "#Convert omega*h^2 values to omega"
   ]
  },
  {
   "cell_type": "markdown",
   "metadata": {},
   "source": [
    "WMAP MCMC Animation"
   ]
  },
  {
   "cell_type": "code",
   "execution_count": null,
   "metadata": {},
   "outputs": [],
   "source": [
    "filename = 'WMAP_MCMC_animation.gif'\n",
    "dataset = 'WMAP'\n",
    "N_samples = 100\n",
    "#Create animation of MCMC fitting\n",
    "MCMC_animation(sampler_WMAP, multipole, power, errPower, dataset, filename, N_samples)"
   ]
  },
  {
   "cell_type": "markdown",
   "metadata": {},
   "source": [
    "## Posterior Probability Function for SNe Ia"
   ]
  },
  {
   "cell_type": "code",
   "execution_count": null,
   "metadata": {},
   "outputs": [],
   "source": []
  },
  {
   "cell_type": "markdown",
   "metadata": {},
   "source": [
    "## SNe Ia MCMC Fitting"
   ]
  },
  {
   "cell_type": "code",
   "execution_count": 5,
   "metadata": {},
   "outputs": [],
   "source": [
    "#Check tau_f to tune MCMC, show corner plots of results\n",
    "#Plot the posterior fit with the data\n",
    "\n",
    "#Calculate posterior for omega_k = 1 - omega_m - omega_de"
   ]
  },
  {
   "cell_type": "markdown",
   "metadata": {},
   "source": [
    "SNe MCMC Animation"
   ]
  },
  {
   "cell_type": "code",
   "execution_count": null,
   "metadata": {},
   "outputs": [],
   "source": [
    "filename = 'SNe_MCMC_animation.gif'\n",
    "dataset = 'SNe'\n",
    "N_samples = 100\n",
    "#Create animation of MCMC fitting\n",
    "MCMC_animation(sampler_SNe, sn_z, sn_dm, sn_dm_err, dataset, filename, N_samples)"
   ]
  },
  {
   "cell_type": "markdown",
   "metadata": {},
   "source": [
    "## Overlay comparison of WMAP and SNe Ia Posterior distributions"
   ]
  },
  {
   "cell_type": "code",
   "execution_count": 7,
   "metadata": {},
   "outputs": [],
   "source": [
    "#Overlay the posteriors for the omegas to compare between the two measurements\n",
    "#Maybe include best fit values from Planck?"
   ]
  }
 ],
 "metadata": {
  "kernelspec": {
   "display_name": "Python 3",
   "language": "python",
   "name": "python3"
  },
  "language_info": {
   "codemirror_mode": {
    "name": "ipython",
    "version": 3
   },
   "file_extension": ".py",
   "mimetype": "text/x-python",
   "name": "python",
   "nbconvert_exporter": "python",
   "pygments_lexer": "ipython3",
   "version": "3.7.3"
  }
 },
 "nbformat": 4,
 "nbformat_minor": 2
}
